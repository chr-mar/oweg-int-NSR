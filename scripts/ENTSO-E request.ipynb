{
 "cells": [
  {
   "cell_type": "markdown",
   "id": "7480a7b1",
   "metadata": {},
   "source": [
    "**Request of ENTSO-E data via the API**"
   ]
  },
  {
   "cell_type": "markdown",
   "id": "4262ee06",
   "metadata": {},
   "source": [
    "Requests via Python are made possible via Repository https://github.com/EnergieID/entsoe-py"
   ]
  },
  {
   "cell_type": "code",
   "execution_count": 2,
   "id": "f25498a9",
   "metadata": {},
   "outputs": [
    {
     "ename": "InvalidPSRTypeError",
     "evalue": "",
     "output_type": "error",
     "traceback": [
      "\u001b[1;31m---------------------------------------------------------------------------\u001b[0m",
      "\u001b[1;31mHTTPError\u001b[0m                                 Traceback (most recent call last)",
      "File \u001b[1;32m~\\anaconda3\\envs\\entsoe-py\\lib\\site-packages\\entsoe\\entsoe.py:98\u001b[0m, in \u001b[0;36mEntsoeRawClient._base_request\u001b[1;34m(self, params, start, end)\u001b[0m\n\u001b[0;32m     97\u001b[0m \u001b[38;5;28;01mtry\u001b[39;00m:\n\u001b[1;32m---> 98\u001b[0m     \u001b[43mresponse\u001b[49m\u001b[38;5;241;43m.\u001b[39;49m\u001b[43mraise_for_status\u001b[49m\u001b[43m(\u001b[49m\u001b[43m)\u001b[49m\n\u001b[0;32m     99\u001b[0m \u001b[38;5;28;01mexcept\u001b[39;00m requests\u001b[38;5;241m.\u001b[39mHTTPError \u001b[38;5;28;01mas\u001b[39;00m e:\n",
      "File \u001b[1;32m~\\anaconda3\\envs\\entsoe-py\\lib\\site-packages\\requests\\models.py:1021\u001b[0m, in \u001b[0;36mResponse.raise_for_status\u001b[1;34m(self)\u001b[0m\n\u001b[0;32m   1020\u001b[0m \u001b[38;5;28;01mif\u001b[39;00m http_error_msg:\n\u001b[1;32m-> 1021\u001b[0m     \u001b[38;5;28;01mraise\u001b[39;00m HTTPError(http_error_msg, response\u001b[38;5;241m=\u001b[39m\u001b[38;5;28mself\u001b[39m)\n",
      "\u001b[1;31mHTTPError\u001b[0m: 400 Client Error: Bad Request for url: https://web-api.tp.entsoe.eu/api?documentType=A73&processType=A16&in_Domain=10YDE-RWENET---I&psrType=B18&securityToken=18a11f17-cb93-4903-8bf4-1337b7c6b224&periodStart=201902282300&periodEnd=201903012300",
      "\nDuring handling of the above exception, another exception occurred:\n",
      "\u001b[1;31mInvalidPSRTypeError\u001b[0m                       Traceback (most recent call last)",
      "Cell \u001b[1;32mIn[2], line 41\u001b[0m\n\u001b[0;32m     11\u001b[0m \u001b[38;5;66;03m# Data for Netherlands is non-existent? \u001b[39;00m\n\u001b[0;32m     12\u001b[0m \u001b[38;5;66;03m# none of the real WIndfarms only blauwwin\u001b[39;00m\n\u001b[0;32m     13\u001b[0m \n\u001b[1;32m   (...)\u001b[0m\n\u001b[0;32m     36\u001b[0m \u001b[38;5;66;03m#    ts = client.query_generation_per_plant(i, start=start,end=end, psr_type='B18')\u001b[39;00m\n\u001b[0;32m     37\u001b[0m \u001b[38;5;66;03m#    ts.to_csv('../data/'+i+'outfile.csv')\u001b[39;00m\n\u001b[0;32m     39\u001b[0m \u001b[38;5;28;01mfor\u001b[39;00m j \u001b[38;5;129;01min\u001b[39;00m country_code2:\n\u001b[0;32m     40\u001b[0m     \u001b[38;5;66;03m#client.query_generation_per_plant(i, start=start,end=end, psr_type='B18')\u001b[39;00m\n\u001b[1;32m---> 41\u001b[0m     ts \u001b[38;5;241m=\u001b[39m \u001b[43mclient\u001b[49m\u001b[38;5;241;43m.\u001b[39;49m\u001b[43mquery_generation_per_plant\u001b[49m\u001b[43m(\u001b[49m\u001b[43mj\u001b[49m\u001b[43m,\u001b[49m\u001b[43m \u001b[49m\u001b[43mstart\u001b[49m\u001b[38;5;241;43m=\u001b[39;49m\u001b[43mstart\u001b[49m\u001b[43m,\u001b[49m\u001b[43mend\u001b[49m\u001b[38;5;241;43m=\u001b[39;49m\u001b[43mend\u001b[49m\u001b[43m,\u001b[49m\u001b[43m \u001b[49m\u001b[43mpsr_type\u001b[49m\u001b[38;5;241;43m=\u001b[39;49m\u001b[38;5;124;43m'\u001b[39;49m\u001b[38;5;124;43mB18\u001b[39;49m\u001b[38;5;124;43m'\u001b[39;49m\u001b[43m)\u001b[49m\n\u001b[0;32m     42\u001b[0m     ts\u001b[38;5;241m.\u001b[39mto_csv(\u001b[38;5;124m'\u001b[39m\u001b[38;5;124m../data/\u001b[39m\u001b[38;5;124m'\u001b[39m\u001b[38;5;241m+\u001b[39mj\u001b[38;5;241m+\u001b[39m\u001b[38;5;124m'\u001b[39m\u001b[38;5;124moutfile.csv\u001b[39m\u001b[38;5;124m'\u001b[39m)\n\u001b[0;32m     44\u001b[0m \u001b[38;5;66;03m#lst = list()\u001b[39;00m\n\u001b[0;32m     45\u001b[0m \u001b[38;5;66;03m#for bzn in domains:\u001b[39;00m\n\u001b[0;32m     46\u001b[0m \u001b[38;5;66;03m#    s = e.query_unavailability_of_production_units(\u001b[39;00m\n\u001b[1;32m   (...)\u001b[0m\n\u001b[0;32m     53\u001b[0m \u001b[38;5;66;03m#\u001b[39;00m\n\u001b[0;32m     54\u001b[0m \u001b[38;5;66;03m#\u001b[39;00m\n",
      "File \u001b[1;32m~\\anaconda3\\envs\\entsoe-py\\lib\\site-packages\\entsoe\\decorators.py:125\u001b[0m, in \u001b[0;36mday_limited.<locals>.day_wrapper\u001b[1;34m(start, end, *args, **kwargs)\u001b[0m\n\u001b[0;32m    123\u001b[0m \u001b[38;5;28;01mfor\u001b[39;00m _start, _end \u001b[38;5;129;01min\u001b[39;00m blocks:\n\u001b[0;32m    124\u001b[0m     \u001b[38;5;28;01mtry\u001b[39;00m:\n\u001b[1;32m--> 125\u001b[0m         frame \u001b[38;5;241m=\u001b[39m func(\u001b[38;5;241m*\u001b[39margs, start\u001b[38;5;241m=\u001b[39m_start, end\u001b[38;5;241m=\u001b[39m_end, \u001b[38;5;241m*\u001b[39m\u001b[38;5;241m*\u001b[39mkwargs)\n\u001b[0;32m    126\u001b[0m     \u001b[38;5;28;01mexcept\u001b[39;00m NoMatchingDataError:\n\u001b[0;32m    127\u001b[0m         \u001b[38;5;28mprint\u001b[39m(\u001b[38;5;124mf\u001b[39m\u001b[38;5;124m\"\u001b[39m\u001b[38;5;124mNoMatchingDataError: between \u001b[39m\u001b[38;5;132;01m{\u001b[39;00m_start\u001b[38;5;132;01m}\u001b[39;00m\u001b[38;5;124m and \u001b[39m\u001b[38;5;132;01m{\u001b[39;00m_end\u001b[38;5;132;01m}\u001b[39;00m\u001b[38;5;124m\"\u001b[39m, file\u001b[38;5;241m=\u001b[39msys\u001b[38;5;241m.\u001b[39mstderr)\n",
      "File \u001b[1;32m~\\anaconda3\\envs\\entsoe-py\\lib\\site-packages\\entsoe\\entsoe.py:1934\u001b[0m, in \u001b[0;36mEntsoePandasClient.query_generation_per_plant\u001b[1;34m(self, country_code, start, end, psr_type, include_eic, nett, **kwargs)\u001b[0m\n\u001b[0;32m   1916\u001b[0m \u001b[38;5;124;03m\"\"\"\u001b[39;00m\n\u001b[0;32m   1917\u001b[0m \u001b[38;5;124;03mParameters\u001b[39;00m\n\u001b[0;32m   1918\u001b[0m \u001b[38;5;124;03m----------\u001b[39;00m\n\u001b[1;32m   (...)\u001b[0m\n\u001b[0;32m   1931\u001b[0m \u001b[38;5;124;03mpd.DataFrame\u001b[39;00m\n\u001b[0;32m   1932\u001b[0m \u001b[38;5;124;03m\"\"\"\u001b[39;00m\n\u001b[0;32m   1933\u001b[0m area \u001b[38;5;241m=\u001b[39m lookup_area(country_code)\n\u001b[1;32m-> 1934\u001b[0m text \u001b[38;5;241m=\u001b[39m \u001b[38;5;28;43msuper\u001b[39;49m\u001b[43m(\u001b[49m\u001b[43mEntsoePandasClient\u001b[49m\u001b[43m,\u001b[49m\u001b[43m \u001b[49m\u001b[38;5;28;43mself\u001b[39;49m\u001b[43m)\u001b[49m\u001b[38;5;241;43m.\u001b[39;49m\u001b[43mquery_generation_per_plant\u001b[49m\u001b[43m(\u001b[49m\n\u001b[0;32m   1935\u001b[0m \u001b[43m    \u001b[49m\u001b[43mcountry_code\u001b[49m\u001b[38;5;241;43m=\u001b[39;49m\u001b[43marea\u001b[49m\u001b[43m,\u001b[49m\u001b[43m \u001b[49m\u001b[43mstart\u001b[49m\u001b[38;5;241;43m=\u001b[39;49m\u001b[43mstart\u001b[49m\u001b[43m,\u001b[49m\u001b[43m \u001b[49m\u001b[43mend\u001b[49m\u001b[38;5;241;43m=\u001b[39;49m\u001b[43mend\u001b[49m\u001b[43m,\u001b[49m\u001b[43m \u001b[49m\u001b[43mpsr_type\u001b[49m\u001b[38;5;241;43m=\u001b[39;49m\u001b[43mpsr_type\u001b[49m\u001b[43m)\u001b[49m\n\u001b[0;32m   1936\u001b[0m df \u001b[38;5;241m=\u001b[39m parse_generation(text, per_plant\u001b[38;5;241m=\u001b[39m\u001b[38;5;28;01mTrue\u001b[39;00m, include_eic\u001b[38;5;241m=\u001b[39minclude_eic)\n\u001b[0;32m   1937\u001b[0m df\u001b[38;5;241m.\u001b[39mcolumns \u001b[38;5;241m=\u001b[39m df\u001b[38;5;241m.\u001b[39mcolumns\u001b[38;5;241m.\u001b[39mset_levels(df\u001b[38;5;241m.\u001b[39mcolumns\u001b[38;5;241m.\u001b[39mlevels[\u001b[38;5;241m0\u001b[39m]\u001b[38;5;241m.\u001b[39mstr\u001b[38;5;241m.\u001b[39mencode(\u001b[38;5;124m'\u001b[39m\u001b[38;5;124mlatin-1\u001b[39m\u001b[38;5;124m'\u001b[39m)\u001b[38;5;241m.\u001b[39mstr\u001b[38;5;241m.\u001b[39mdecode(\u001b[38;5;124m'\u001b[39m\u001b[38;5;124mutf-8\u001b[39m\u001b[38;5;124m'\u001b[39m), level\u001b[38;5;241m=\u001b[39m\u001b[38;5;241m0\u001b[39m)\n",
      "File \u001b[1;32m~\\anaconda3\\envs\\entsoe-py\\lib\\site-packages\\entsoe\\entsoe.py:359\u001b[0m, in \u001b[0;36mEntsoeRawClient.query_generation_per_plant\u001b[1;34m(self, country_code, start, end, psr_type, **kwargs)\u001b[0m\n\u001b[0;32m    357\u001b[0m \u001b[38;5;28;01mif\u001b[39;00m psr_type:\n\u001b[0;32m    358\u001b[0m     params\u001b[38;5;241m.\u001b[39mupdate({\u001b[38;5;124m'\u001b[39m\u001b[38;5;124mpsrType\u001b[39m\u001b[38;5;124m'\u001b[39m: psr_type})\n\u001b[1;32m--> 359\u001b[0m response \u001b[38;5;241m=\u001b[39m \u001b[38;5;28;43mself\u001b[39;49m\u001b[38;5;241;43m.\u001b[39;49m\u001b[43m_base_request\u001b[49m\u001b[43m(\u001b[49m\u001b[43mparams\u001b[49m\u001b[38;5;241;43m=\u001b[39;49m\u001b[43mparams\u001b[49m\u001b[43m,\u001b[49m\u001b[43m \u001b[49m\u001b[43mstart\u001b[49m\u001b[38;5;241;43m=\u001b[39;49m\u001b[43mstart\u001b[49m\u001b[43m,\u001b[49m\u001b[43m \u001b[49m\u001b[43mend\u001b[49m\u001b[38;5;241;43m=\u001b[39;49m\u001b[43mend\u001b[49m\u001b[43m)\u001b[49m\n\u001b[0;32m    360\u001b[0m \u001b[38;5;28;01mreturn\u001b[39;00m response\u001b[38;5;241m.\u001b[39mtext\n",
      "File \u001b[1;32m~\\anaconda3\\envs\\entsoe-py\\lib\\site-packages\\entsoe\\decorators.py:22\u001b[0m, in \u001b[0;36mretry.<locals>.retry_wrapper\u001b[1;34m(*args, **kwargs)\u001b[0m\n\u001b[0;32m     20\u001b[0m \u001b[38;5;28;01mfor\u001b[39;00m _ \u001b[38;5;129;01min\u001b[39;00m \u001b[38;5;28mrange\u001b[39m(\u001b[38;5;28mself\u001b[39m\u001b[38;5;241m.\u001b[39mretry_count):\n\u001b[0;32m     21\u001b[0m     \u001b[38;5;28;01mtry\u001b[39;00m:\n\u001b[1;32m---> 22\u001b[0m         result \u001b[38;5;241m=\u001b[39m func(\u001b[38;5;241m*\u001b[39margs, \u001b[38;5;241m*\u001b[39m\u001b[38;5;241m*\u001b[39mkwargs)\n\u001b[0;32m     23\u001b[0m     \u001b[38;5;28;01mexcept\u001b[39;00m (requests\u001b[38;5;241m.\u001b[39mConnectionError, gaierror) \u001b[38;5;28;01mas\u001b[39;00m e:\n\u001b[0;32m     24\u001b[0m         error \u001b[38;5;241m=\u001b[39m e\n",
      "File \u001b[1;32m~\\anaconda3\\envs\\entsoe-py\\lib\\site-packages\\entsoe\\entsoe.py:109\u001b[0m, in \u001b[0;36mEntsoeRawClient._base_request\u001b[1;34m(self, params, start, end)\u001b[0m\n\u001b[0;32m    107\u001b[0m     \u001b[38;5;28;01mraise\u001b[39;00m InvalidBusinessParameterError\n\u001b[0;32m    108\u001b[0m \u001b[38;5;28;01melif\u001b[39;00m \u001b[38;5;124m\"\u001b[39m\u001b[38;5;124mis not valid for this area\u001b[39m\u001b[38;5;124m\"\u001b[39m \u001b[38;5;129;01min\u001b[39;00m error_text:\n\u001b[1;32m--> 109\u001b[0m     \u001b[38;5;28;01mraise\u001b[39;00m InvalidPSRTypeError\n\u001b[0;32m    110\u001b[0m \u001b[38;5;28;01melif\u001b[39;00m \u001b[38;5;124m'\u001b[39m\u001b[38;5;124mamount of requested data exceeds allowed limit\u001b[39m\u001b[38;5;124m'\u001b[39m \u001b[38;5;129;01min\u001b[39;00m error_text:\n\u001b[0;32m    111\u001b[0m     requested \u001b[38;5;241m=\u001b[39m error_text\u001b[38;5;241m.\u001b[39msplit(\u001b[38;5;124m'\u001b[39m\u001b[38;5;124m \u001b[39m\u001b[38;5;124m'\u001b[39m)[\u001b[38;5;241m-\u001b[39m\u001b[38;5;241m2\u001b[39m]\n",
      "\u001b[1;31mInvalidPSRTypeError\u001b[0m: "
     ]
    }
   ],
   "source": [
    "from entsoe import EntsoePandasClient\n",
    "import pandas as pd\n",
    "\n",
    "client = EntsoePandasClient(api_key=\"18a11f17-cb93-4903-8bf4-1337b7c6b224\")\n",
    "\n",
    "#for British Windfarms tz='Europe/London' else 'Europe/Brussels') #TODO: is there a difference?\n",
    "start = pd.Timestamp('20190301', tz='Europe/Brussels')\n",
    "end = pd.Timestamp('20190331', tz='Europe/Brussels')\n",
    "country_code1 = ['BE','GB','DK_CA',]\n",
    "\n",
    "country_code2 =['DE_AMPRION','NL','DE_TENNET']\n",
    "# Data for Netherlands is non-existent? \n",
    "# none of the real WIndfarms only blauwwin\n",
    "#no entries for Wind Offshore for German windfarms?\n",
    "\n",
    "\n",
    "\n",
    "# in order to see available data, visit https://transparency.entsoe.eu/dashboard/show\n",
    "#allowed input is listes here: https://github.com/EnergieID/entsoe-py/blob/master/entsoe/mappings.py\n",
    "#is taken from official documentation\n",
    "#https://transparency.entsoe.eu/content/static_content/Static%20content/web%20api/Guide.html\n",
    "#BZN is for Bidding Zone\n",
    "\n",
    "# methods that return Pandas Series\n",
    "#client.query_day_ahead_prices(country_code, start=start,end=end)\n",
    "#...\n",
    "\n",
    "# methods that return Pandas DataFrames\n",
    "#client.query_installed_generation_capacity(country_code, start=start,end=end, psr_type=None)\n",
    "#...\n",
    "\n",
    "#saving the data to harddrive\n",
    "#B18 only returns wind offshore\n",
    "\n",
    "#splitting because of data limit]\n",
    "#for i in country_code1:\n",
    "#    #client.query_generation_per_plant(i, start=start,end=end, psr_type='B18')\n",
    "#    ts = client.query_generation_per_plant(i, start=start,end=end, psr_type='B18')\n",
    "#    ts.to_csv('../data/'+i+'outfile.csv')\n",
    "    \n",
    "for j in country_code2:\n",
    "    #client.query_generation_per_plant(i, start=start,end=end, psr_type='B18')\n",
    "    ts = client.query_generation_per_plant(j, start=start,end=end, psr_type='B18')\n",
    "    ts.to_csv('../data/'+j+'outfile.csv')\n",
    "\n",
    "#lst = list()\n",
    "#for bzn in domains:\n",
    "#    s = e.query_unavailability_of_production_units(\n",
    "#        country_code=bzn[0], docstatus=None, start=start, end=end)\n",
    "#    if s is not None:\n",
    "#        lst.append(s)\n",
    "#\n",
    "#result = pd.concat(lst)\n",
    "#result.to_csv('result.csv')\n",
    "#\n",
    "#"
   ]
  },
  {
   "cell_type": "markdown",
   "id": "ce9efd2f",
   "metadata": {},
   "source": [
    "Dump result to file\n",
    "\n",
    "See a list of all IO-methods on https://pandas.pydata.org/pandas-docs/stable/io.html\n"
   ]
  },
  {
   "cell_type": "code",
   "execution_count": null,
   "id": "18c17018",
   "metadata": {},
   "outputs": [],
   "source": []
  },
  {
   "cell_type": "code",
   "execution_count": null,
   "id": "319fe24a",
   "metadata": {},
   "outputs": [],
   "source": []
  }
 ],
 "metadata": {
  "kernelspec": {
   "display_name": "entsoe-py",
   "language": "python",
   "name": "entsoe-py"
  },
  "language_info": {
   "codemirror_mode": {
    "name": "ipython",
    "version": 3
   },
   "file_extension": ".py",
   "mimetype": "text/x-python",
   "name": "python",
   "nbconvert_exporter": "python",
   "pygments_lexer": "ipython3",
   "version": "3.10.8"
  }
 },
 "nbformat": 4,
 "nbformat_minor": 5
}
