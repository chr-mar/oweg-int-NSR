{
 "cells": [
  {
   "cell_type": "markdown",
   "id": "7480a7b1",
   "metadata": {},
   "source": [
    "**Request of ENTSO-E data via the API**"
   ]
  },
  {
   "cell_type": "markdown",
   "id": "4262ee06",
   "metadata": {},
   "source": [
    "Requests via Python are made possible via Repository https://github.com/EnergieID/entsoe-py"
   ]
  },
  {
   "cell_type": "code",
   "execution_count": 1,
   "id": "f25498a9",
   "metadata": {},
   "outputs": [],
   "source": [
    "from entsoe import EntsoePandasClient\n",
    "import pandas as pd\n",
    "\n",
    "client = EntsoePandasClient(api_key=\"18a11f17-cb93-4903-8bf4-1337b7c6b224\")\n",
    "\n",
    "#use 'UTC' as Timezone for all so that we can compare with ATLITE\n",
    "\n",
    "#setting 31st of march will only include the hour 00:00-01:00 --> set 1st of April\n",
    "#mid-February is time frame of analysis\n",
    "start = pd.Timestamp('20210115', tz='UTC')\n",
    "end = pd.Timestamp('20210216', tz='UTC')\n",
    "\n",
    "#it turns out: data for the time frame are only usable for three countries\n",
    "country_code1 = ['GB','DK_CA','BE']\n",
    "\n",
    "# data are n/a\n",
    "country_code2 =['DE_AMPRION','NL','DE_TENNET']\n",
    "\n",
    "#import pytz\n",
    "#pytz.all_timezones\n"
   ]
  },
  {
   "cell_type": "markdown",
   "id": "8b5c53b0",
   "metadata": {},
   "source": [
    " Data for Netherlands is non-existent? \n",
    " none of the real Windfarms only a generic: blauwwind\n",
    "Blauwwind III and IV exist, but nonetheless, there are no values\n",
    "https://english.rvo.nl/sites/default/files/2020/12/Windkaart_ENG_v10_Online.pdf\n",
    "\n",
    "There are no entries for Wind Offshore for German windfarms.\n",
    "\n",
    "\n",
    "In order to see available data, visit https://transparency.entsoe.eu/dashboard/show <br>\n",
    "List of allowed inputs can be found here: https://github.com/EnergieID/entsoe-py/blob/master/entsoe/mappings.py, is taken from official documentation.\n",
    "<br> https://transparency.entsoe.eu/content/static_content/Static%20content/web%20api/Guide.html shows, that option BZN is for Bidding Zone. Selecting B18 returns wind offshore plants\n",
    "\n",
    "\n",
    "The data is saved to hard disk.\n",
    "Nota Bene: ENTSO-E only has only plants above 100 MW, some smaller farms are not captured.\n"
   ]
  },
  {
   "cell_type": "code",
   "execution_count": 2,
   "id": "56dcca81",
   "metadata": {},
   "outputs": [],
   "source": [
    "\n",
    "#splitting because code2-countries have n/a-data, this leads to abortion of request \n",
    "for i in country_code1:\n",
    "    #client.query_generation_per_plant(i, start=start,end=end, psr_type='B18')\n",
    "    ts = client.query_generation_per_plant(i, start=start,end=end, psr_type='B18')\n",
    "    ts.to_csv('../data/'+i+'_4_outfile.csv') #2 for second try in January 2021 #4 is final try\n",
    "    \n",
    "#for j in country_code2:\n",
    "#    #client.query_generation_per_plant(i, start=start,end=end, psr_type='B18')\n",
    "#    ts = client.query_generation_per_plant(j, start=start,end=end, psr_type='B18')\n",
    "#    ts.to_csv('../data/'+j+'outfile.csv')\n",
    "\n",
    "    \n",
    "#Code from the Web for multiple requests:\n",
    "#lst = list()\n",
    "#for bzn in domains:\n",
    "#    s = e.query_unavailability_of_production_units(\n",
    "#        country_code=bzn[0], docstatus=None, start=start, end=end)\n",
    "#    if s is not None:\n",
    "#        lst.append(s)\n",
    "##\n",
    "#result = pd.concat(lst)\n",
    "#result.to_csv('result.csv')\n"
   ]
  },
  {
   "cell_type": "markdown",
   "id": "ce9efd2f",
   "metadata": {},
   "source": [
    "Results are dumped result to file"
   ]
  },
  {
   "cell_type": "markdown",
   "id": "21349884",
   "metadata": {},
   "source": [
    "**NO UK Data between 21/01/01 and  21/01/11 (ISO8604-Format)**"
   ]
  },
  {
   "cell_type": "code",
   "execution_count": null,
   "id": "cd6970f0",
   "metadata": {},
   "outputs": [],
   "source": []
  }
 ],
 "metadata": {
  "kernelspec": {
   "display_name": "entsoe-py",
   "language": "python",
   "name": "entsoe-py"
  },
  "language_info": {
   "codemirror_mode": {
    "name": "ipython",
    "version": 3
   },
   "file_extension": ".py",
   "mimetype": "text/x-python",
   "name": "python",
   "nbconvert_exporter": "python",
   "pygments_lexer": "ipython3",
   "version": "3.10.8"
  }
 },
 "nbformat": 4,
 "nbformat_minor": 5
}
